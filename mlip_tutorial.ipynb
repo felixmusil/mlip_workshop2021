{
 "cells": [
  {
   "cell_type": "code",
   "execution_count": null,
   "source": [
    "%matplotlib inline\n",
    "from matplotlib import pylab as plt\n",
    "\n",
    "import ase\n",
    "from ase.io import read\n",
    "from ase.visualize import view\n",
    "import numpy as np\n",
    "\n",
    "from rascal.representations import SphericalInvariants\n",
    "from rascal.models import gaptools\n",
    "from rascal.models.asemd import ASEMLCalculator\n",
    "from rascal.utils import dump_obj, load_obj, print_score\n",
    "from rascal.models import gaptools, KRR\n",
    "\n",
    "from tools.download import download_url\n",
    "from tools.utils import fix_frames, train_test_split, filter_frames, get_config_type, draw_dimer_curve\n",
    "from tools.radial_basis import draw_radial_basis"
   ],
   "outputs": [],
   "metadata": {
    "init_cell": true
   }
  },
  {
   "cell_type": "markdown",
   "source": [
    "For this exercise we will use the [Silicon dataset](https://doi.org/10.1103/PhysRevX.8.041048) published with\n",
    "\n",
    "```\n",
    "Machine Learning a General-Purpose Interatomic Potential for Silicon\n",
    "Albert P. Bartók, James Kermode, Noam Bernstein, and Gábor Csányi\n",
    "Phys. Rev. X 8, 041048 – Published 14 December 2018\n",
    "```"
   ],
   "metadata": {}
  },
  {
   "cell_type": "code",
   "execution_count": null,
   "source": [
    "# path to the dataset\n",
    "url = \"https://github.com/libAtoms/silicon-testing-framework/raw/master/models/GAP/gp_iter6_sparse9k.xml.xyz\"\n",
    "\n",
    "structures_fn = download_url(url, './')\n",
    "structures_fn"
   ],
   "outputs": [],
   "metadata": {}
  },
  {
   "cell_type": "markdown",
   "source": [
    "# Build a SOAP-GAP Force Field for Silicon\n",
    "\n",
    "The energy $E(A)$ of structure $A$ is modeled by an isolated atom contribution, i.e. $E_0(A)$, and the GAP model based on the SOAP featurization:\n",
    "\n",
    "$$\n",
    "                    E(A) = E_0(A) + \\sum_{i\\in A} \\sum_{m=1}^M \\alpha_m K(\\bf{\\mathbf{p}^{(i)}} , \\mathbf{p}^{(m)} ).                   \n",
    "$$\n",
    "\n",
    "The isolated contribution is given by the energy of a silicon atom in vaccum. In this dataset, it corresponds to the 1$^{st}$ configuration."
   ],
   "metadata": {}
  },
  {
   "cell_type": "code",
   "execution_count": null,
   "source": [
    "# load the structures\n",
    "frames = fix_frames(read(structures_fn,':'))\n",
    "# and extract the first one because it coresponds to an isolated configuration\n",
    "# used to convert total energies into formation energies\n",
    "isolated_atom = frames[0]\n",
    "frames = frames[1:]\n",
    "\n",
    "global_species = [14]\n",
    "\n",
    "# Isolated atom contributions\n",
    "energy_baseline = {\n",
    "    14: isolated_atom.info['dft_energy'],\n",
    "}"
   ],
   "outputs": [],
   "metadata": {}
  },
  {
   "cell_type": "markdown",
   "source": [
    "The dataset is composed a several types of configurations. The solid phases, such as *bcc*, *diamond*, ..., represented but also configurations corresponding to *liquid*, *surfaces*, *vacancies*..."
   ],
   "metadata": {}
  },
  {
   "cell_type": "code",
   "execution_count": null,
   "source": [
    "print(get_config_type(frames))"
   ],
   "outputs": [],
   "metadata": {}
  },
  {
   "cell_type": "markdown",
   "source": [
    "Let's just build a model for the *diamond* and $\\beta-S_n$ phases because it's simple to check its accuracy and also to lower the hardware requirements of this excercice."
   ],
   "metadata": {}
  },
  {
   "cell_type": "code",
   "execution_count": null,
   "source": [
    "excludes = [\n",
    "    'amorph', 'crack_110_1-10', 'crack_111_1-10', 'decohesion', 'interstitial','divacancy', 'liq', 'screw_disloc','surface_001', 'surface_110', 'surface_111', 'surface_111_3x3_das', 'surface_111_pandey', 'vacancy', 'st12', '111adatom', 'bc8', 'hex_diamond', 'sh', 'sp2', 'sp', 'hcp', 'fcc', 'bcc',\n",
    "]\n",
    "\n",
    "\n",
    "# remove some types of configurations\n",
    "frames = filter_frames(frames, excludes)\n",
    "# Total number of structure to load\n",
    "N = len(frames)\n",
    "# Number of structure to train the model with\n",
    "n_train = int(0.8*N)\n",
    "\n",
    "print(get_config_type(frames))\n",
    "N, n_train"
   ],
   "outputs": [],
   "metadata": {}
  },
  {
   "cell_type": "markdown",
   "source": [
    "Split the structures into a training and a test set. This is the most basic procedure to estimate the accuracy of the resulting model. "
   ],
   "metadata": {}
  },
  {
   "cell_type": "code",
   "execution_count": null,
   "source": [
    "ids = np.arange(N)\n",
    "np.random.seed(19582)\n",
    "np.random.shuffle(ids)\n",
    "\n",
    "frames_train, y_train, f_train, frames_test, y_test, f_test = train_test_split(ids, n_train, frames)"
   ],
   "outputs": [],
   "metadata": {
    "code_folding": []
   }
  },
  {
   "cell_type": "markdown",
   "source": [
    "Choose the parameter of the SOAP Power Spectrum. \n",
    "\n",
    "A *good* physical intuition of the system can simplify significantly the determination of an accurate model."
   ],
   "metadata": {}
  },
  {
   "cell_type": "code",
   "execution_count": null,
   "source": [
    "hypers = dict(soap_type=\"PowerSpectrum\",\n",
    "              # MAIN PARAMETERS OF of the SOAP REPRESENTATION\n",
    "              # length of the spherical cutoff\n",
    "              interaction_cutoff=5, \n",
    "              # size of the radial basis expension\n",
    "              max_radial=8, \n",
    "              # size+1 of the spherical harmonics expension\n",
    "              max_angular=6, \n",
    "              # width of the gaussian smearing\n",
    "              gaussian_sigma_constant=0.4,\n",
    "            \n",
    "              # type of radial basis function\n",
    "              radial_basis=\"GTO\",\n",
    "              # SECONDARY PARAMETERS\n",
    "              cutoff_smooth_width=0.5,\n",
    "              gaussian_sigma_type=\"Constant\",\n",
    "              normalize=True,\n",
    "              compute_gradients=False,\n",
    "              expansion_by_species_method='structure wise',\n",
    "              optimization={\"Spline\":{\"accuracy\":1e-6}}\n",
    "              )\n",
    "\n",
    "soap = SphericalInvariants(**hypers)\n"
   ],
   "outputs": [],
   "metadata": {}
  },
  {
   "cell_type": "markdown",
   "source": [
    "Radial distribution function of the silicon dataset\n",
    "\n",
    "![](images/rdf.png)"
   ],
   "metadata": {}
  },
  {
   "cell_type": "code",
   "execution_count": null,
   "source": [
    "draw_radial_basis()"
   ],
   "outputs": [],
   "metadata": {}
  },
  {
   "cell_type": "markdown",
   "source": [
    "The GAP model is composed of two equally important ingredients:\n",
    "\n",
    "+ the model's weights $\\alpha_m$\n",
    "\n",
    "+ the sparse points used as a basis for the regression"
   ],
   "metadata": {}
  },
  {
   "cell_type": "markdown",
   "source": [
    "## Find the Sparce Points\n",
    "\n",
    "A typical strategy to determine the sparse points is to select them directly from the dataset in an unsupervised fashion. \n",
    "\n",
    "Among the many possible unsupervised ML algorithms, we will use [Farthest Point Sampling](doi.org/10.1063/1.5024611) (FPS) because it is both quite effective and it has a small computational cost (in our current scenario).\n",
    "\n",
    "The FPS algorithm applied to samples drawn from a double well distribution will select the orange data points:  \n",
    "\n",
    "<img src=\"images/fps_double_well.png\" width=\"400\" height=\"400\"/>\n",
    "\n",
    "\n",
    "In addition to select \"representative\" local environment to use as sparse points, this algorithm can be used to select the set of most diverse features in order to lower the computational cost associated with the computation of the power spectrum and the dot product in the kernel computations:\n",
    "$$\n",
    "    k(\\mathbf{p}^{(i)},\\mathbf{p}^{(m)}) = \\left[\\frac{\\mathbf{p}^{(i)} \\cdot \\mathbf{p}^{(m)}}{\\|\\mathbf{p}^{(i)}\\| \\| \\mathbf{p}^{(m)}\\|} \\right]^{\\zeta}\n",
    "$$\n",
    "\n",
    "This feature sparcification procedure has been shown to be quite effective at reducing the number of feature whithout affecting the overall accuracy of the resulting model."
   ],
   "metadata": {}
  },
  {
   "cell_type": "code",
   "execution_count": null,
   "source": [
    "# Compute the representation of all the structures\n",
    "soap, feature_list = gaptools.calculate_representation(frames, hypers)"
   ],
   "outputs": [],
   "metadata": {}
  },
  {
   "cell_type": "code",
   "execution_count": null,
   "source": [
    "# Select the 200 features that are most important in this dataset \n",
    "n_features = 200\n",
    "sparcified_hypers = gaptools.sparsify_features(soap, feature_list, \n",
    "                                n_features, selection_type=\"FPS\")"
   ],
   "outputs": [],
   "metadata": {}
  },
  {
   "cell_type": "code",
   "execution_count": null,
   "source": [
    "# Compute the sparsified representation\n",
    "soap, feature_list = gaptools.calculate_representation(frames, sparcified_hypers)"
   ],
   "outputs": [],
   "metadata": {}
  },
  {
   "cell_type": "code",
   "execution_count": null,
   "source": [
    "# Identify 1000 representative local environement within the dataset \n",
    "# to use as basis in the GAP model \n",
    "n_sparse = {14: 1000}\n",
    "X_sparse = gaptools.sparsify_environments(soap, feature_list, n_sparse, selection_type=\"FPS\")"
   ],
   "outputs": [],
   "metadata": {}
  },
  {
   "cell_type": "markdown",
   "source": [
    "## Train the GAP model\n",
    "\n",
    "After finding some sparse points to use in the GAP model, we can start to train it.\n",
    "With **rascal**, it is done in two steps :\n",
    "\n",
    "+ build the $K_{NM}$ matrix for the training dataset for training with energies and forces\n",
    "\n",
    "+ minimize the least square problem  $\\| \\alpha \\mathbf{K}- \\mathbf{Y} \\|$"
   ],
   "metadata": {}
  },
  {
   "cell_type": "markdown",
   "source": [
    "We first build several matrices using $\\zeta=4$:\n",
    "\n",
    "+ $K_{MM}$, the similarity between sparse points\n",
    "+ $K_{NM}$ or **K_full_spars**, the similarity between configurations' features and the sparse points\n",
    "+ $K_{NM}$ or **K_grad_full_sparse**, the similarity between configurations' feature gradients and the sparse points\n",
    " \n",
    "To avoid large memory consumptions the $K_{NM}$ matrix is built one configuration at a time.\n"
   ],
   "metadata": {}
  },
  {
   "cell_type": "code",
   "execution_count": null,
   "source": [
    "# Compute the kernel elements and their derivatives\n",
    "(k_obj, K_sparse_sparse, K_full_sparse, K_grad_full_sparse) = gaptools.compute_kernels(\n",
    "    soap,\n",
    "    feature_list,\n",
    "    X_sparse,\n",
    "    soap_power=4,\n",
    ")"
   ],
   "outputs": [],
   "metadata": {
    "code_folding": []
   }
  },
  {
   "cell_type": "markdown",
   "source": [
    "Split the kernel matrices into a trainig and testing set"
   ],
   "metadata": {}
  },
  {
   "cell_type": "code",
   "execution_count": null,
   "source": [
    "natoms = [len(frame) for frame in frames]\n",
    "K_train_sparse, K_grad_train_sparse = gaptools.extract_kernel_indices(\n",
    "    ids[:n_train], K_full_sparse, K_grad_full_sparse, natoms=natoms\n",
    ")\n",
    "K_test_sparse, K_grad_test_sparse = gaptools.extract_kernel_indices(\n",
    "    ids[n_train:], K_full_sparse, K_grad_full_sparse, natoms=natoms\n",
    ")"
   ],
   "outputs": [],
   "metadata": {}
  },
  {
   "cell_type": "markdown",
   "source": [
    "The direct linear system that solves the minimization problem\n",
    "$$\n",
    "\\mathbf{\\alpha}  = \\mathbf{K}^{-1}\\mathbf{Y},\n",
    "$$\n",
    "where\n",
    "$$\n",
    "\\mathbf{K} = \\mathbf{K}_{MM} + \\mathbf{K}_{MN} \\mathbf{\\Lambda}^{-2} \\mathbf{K}_{NM},\n",
    "$$\n",
    "and\n",
    "$$\n",
    "\\mathbf{Y} =   \\mathbf{K}_{MN} \\mathbf{\\Lambda}^{-2} \\mathbf{y},\n",
    "$$\n",
    "\n",
    "is often ill-conditioned (mostly because of the $\\mathbf{K}_{MN} \\mathbf{\\Lambda}^{-2} \\mathbf{K}_{NM}$ product).\n",
    "\n",
    "So to avoid numerical instabilities, the **\"RKHS-QR\"** method solves equivalently the minimization problem like this \n",
    "$$ \n",
    "\\alpha = K_{MM}^{-1/2} \\begin{bmatrix}K_{NM} K_{MM}^{-1/2}\\\\ \\Lambda^{-1}\\end{bmatrix}^{-1} \\begin{bmatrix}\\mathbf{Y}\\\\ \\vec{0}\\end{bmatrix}.$$"
   ],
   "metadata": {}
  },
  {
   "cell_type": "code",
   "execution_count": null,
   "source": [
    "# train a gap model\n",
    "weights = gaptools.fit_gap_simple(\n",
    "    frames_train,\n",
    "    K_sparse_sparse,\n",
    "    y_train,\n",
    "    K_train_sparse,\n",
    "    energy_regularizer_peratom=1E-3,\n",
    "    forces=f_train,\n",
    "    kernel_gradients_sparse=K_grad_train_sparse,\n",
    "    energy_atom_contributions=energy_baseline,\n",
    "    force_regularizer=1E-2,\n",
    "    solver=\"RKHS-QR\"\n",
    ")"
   ],
   "outputs": [],
   "metadata": {}
  },
  {
   "cell_type": "code",
   "execution_count": null,
   "source": [
    "model = KRR(weights, k_obj, X_sparse, energy_baseline,\n",
    "            description=\"GAP MLIP for solid Silicon\")\n",
    "dump_obj('./models/silicon_model_small_dataset.json', model)"
   ],
   "outputs": [],
   "metadata": {}
  },
  {
   "cell_type": "markdown",
   "source": [
    "## Test the model\n",
    "\n",
    "The quality of the trained model has to be checked using several metrics."
   ],
   "metadata": {}
  },
  {
   "cell_type": "code",
   "execution_count": null,
   "source": [
    "# you can load the previously trained model\n",
    "model = load_obj('./models/silicon_model_small_dataset.json')"
   ],
   "outputs": [],
   "metadata": {}
  },
  {
   "cell_type": "markdown",
   "source": [
    "### on a test set\n",
    "\n",
    "The simplest metric that can be used in all scenarios is to compute the error done on a test set. This estimate is most meaninful if the test set is representative of the inputs that will be seen during production, e.g. molecular dynamics simulation."
   ],
   "metadata": {}
  },
  {
   "cell_type": "code",
   "execution_count": null,
   "source": [
    "# basic assessement of the quality of the trained model\n",
    "y_pred = model.predict(frames_test, KNM=K_test_sparse)\n",
    "f_pred = model.predict_forces(frames_test, KNM=K_grad_test_sparse)\n",
    "natoms = np.array([len(frame) for frame in frames_test])\n",
    "\n",
    "print('Error statistics on the energy per atom:')\n",
    "print_score(y_pred/natoms, y_test/natoms)\n",
    "plt.plot(y_test/natoms, y_pred/natoms, 'o')\n",
    "plt.title(\"correlation plot\")\n",
    "plt.xlabel(\"predicted energies [eV/atom]\")\n",
    "plt.ylabel(\"reference energies [eV/atom]\")"
   ],
   "outputs": [],
   "metadata": {}
  },
  {
   "cell_type": "code",
   "execution_count": null,
   "source": [
    "print('Error statistics on the forces:')\n",
    "print_score(f_pred.flatten(), f_test.flatten())\n",
    "plt.plot(f_pred.flatten(), f_test.flatten(), 'o')\n",
    "plt.title(\"correlation plot\")\n",
    "plt.xlabel(r\"predicted forces [eV/$\\AA$]\")\n",
    "plt.ylabel(r\"reference forces [eV/$\\AA$]\")"
   ],
   "outputs": [],
   "metadata": {}
  },
  {
   "cell_type": "markdown",
   "source": [
    "## Using KFold Cross Validation\n",
    "\n",
    "Illustration of k-fold cross-validation when n = 12 observations and k = 3. After data is shuffled, a total of 3 models will be trained and tested.\n",
    "\n",
    "![](images/KfoldCV.gif)\n",
    "\n",
    "\n",
    "\n",
    "[By MBanuelos22 - Own work, CC BY-SA 4.0](https://commons.wikimedia.org/w/index.php?curid=87684542)"
   ],
   "metadata": {}
  },
  {
   "cell_type": "markdown",
   "source": [
    "### On physical properties: \n",
    "\n",
    "+ Equation of State (EoS) of the diamond and $\\beta$-$S_n$ phases of silicon \n",
    "\n",
    "+ elastic tensor of the diamond phase"
   ],
   "metadata": {}
  },
  {
   "cell_type": "code",
   "execution_count": null,
   "source": [
    "from rascal.models.asemd import ASEMLCalculator\n",
    "\n",
    "from tools.lattice_cubic import do_lattice as do_cubic\n",
    "from tools.lattice_tetragonal import do_lattice as do_tetragonal\n",
    "from tools.utils import dft_ref\n",
    "\n",
    "from ase.io.trajectory import Trajectory\n",
    "from ase.io import read\n",
    "from ase.lattice.cubic import Diamond\n",
    "\n"
   ],
   "outputs": [],
   "metadata": {}
  },
  {
   "cell_type": "markdown",
   "source": [
    "#### The diamond phase"
   ],
   "metadata": {}
  },
  {
   "cell_type": "code",
   "execution_count": null,
   "source": [
    "calc = ASEMLCalculator(model, model.get_representation_calculator())\n",
    "a0 = (20.0*8)**(1.0/3.0) # initial guess at lattice constant, cell will be relaxed below\n",
    "\n",
    "# set up the a\n",
    "atoms = Diamond(symbol='Si', latticeconstant=a0)\n",
    "atoms.set_calculator(calc)\n",
    "c11, c12, c44, E_vs_V = do_cubic(atoms, elastic=True)\n",
    "a0 = atoms.cell[0,0] # save lattice constant after relaxation"
   ],
   "outputs": [],
   "metadata": {}
  },
  {
   "cell_type": "code",
   "execution_count": null,
   "source": [
    "ml_pred = {}\n",
    "ml_pred['diamond'] = {'a0': a0, 'c11': c11, 'c12': c12, 'c44': c44, \n",
    "                  'bulk_modulus': (c11+2.0*c12)/3.0, 'E_vs_V': E_vs_V }"
   ],
   "outputs": [],
   "metadata": {}
  },
  {
   "cell_type": "markdown",
   "source": [
    "#### The $\\beta$-$S_n$ phase"
   ],
   "metadata": {}
  },
  {
   "cell_type": "code",
   "execution_count": null,
   "source": [
    "atoms = ase.Atoms([14] * 2, pbc=True,\n",
    "                     positions=[(0.0, -0.25, -0.069), (0.0, 0.25, 0.069)], \n",
    "              cell=[ [1.0, 0.0, 0.0], [0.0, 1.0, 0.0], [0.5, 0.5, 0.276]])\n",
    "\n",
    "cell = atoms.get_cell()\n",
    "cell *= (20.0*2/atoms.get_volume())**(1.0/3.0)\n",
    "atoms.set_cell(cell, scale_atoms=True)\n",
    "atoms.set_calculator(calc)\n",
    "\n",
    "E_vs_V = do_tetragonal(atoms, elastic=False)\n",
    "\n",
    "# dictionary of computed properties - this is output of this test, to\n",
    "#   be compared with other models\n",
    "ml_pred['beta-Sn'] = {'E_vs_V': E_vs_V }"
   ],
   "outputs": [],
   "metadata": {}
  },
  {
   "cell_type": "markdown",
   "source": [
    "#### Compare our MLIP with the DFT reference"
   ],
   "metadata": {}
  },
  {
   "cell_type": "code",
   "execution_count": null,
   "source": [
    "print('Relative error on several structural properties of the diamond phase of silicon w.r.t. the DFT reference:')\n",
    "for (k,ref) in dft_ref['diamond'].items():\n",
    "    pred = ml_pred['diamond'][k]\n",
    "    if k == 'E_vs_V': continue\n",
    "    print(f\"    {k}: {(ref-pred)/ref*100} %\")"
   ],
   "outputs": [],
   "metadata": {}
  },
  {
   "cell_type": "code",
   "execution_count": null,
   "source": [
    "aa = np.array(dft_ref['diamond']['E_vs_V'],dtype=object)\n",
    "bb = np.array(ml_pred['diamond']['E_vs_V'],dtype=object)\n",
    "plt.plot(aa[:,0],aa[:,1],'-k',label='diamond ref')\n",
    "plt.plot(bb[:,0],bb[:,1],'--b',label='diamond pred')\n",
    "plt.title('Equation of State')\n",
    "plt.ylabel('Energy [eV]')\n",
    "plt.xlabel(r'Volume [$\\AA^3$]')\n",
    "plt.legend()\n",
    "plt.show()\n",
    "\n",
    "\n",
    "aa = np.array(dft_ref['beta-Sn']['E_vs_V'],dtype=object)\n",
    "bb = np.array(ml_pred['beta-Sn']['E_vs_V'],dtype=object)\n",
    "plt.plot(aa[:,0],aa[:,1],'-k',label=r'$\\beta-S_n$ ref')\n",
    "plt.plot(bb[:,0],bb[:,1],'--r',label=r'$\\beta-S_n$ pred')\n",
    "plt.title('Equation of State')\n",
    "plt.ylabel('Energy [eV]')\n",
    "plt.xlabel(r'Volume [$\\AA^3$]')\n",
    "plt.legend()\n",
    "plt.show()"
   ],
   "outputs": [],
   "metadata": {}
  },
  {
   "cell_type": "markdown",
   "source": [
    "### On dimer curve"
   ],
   "metadata": {}
  },
  {
   "cell_type": "code",
   "execution_count": null,
   "source": [
    "draw_dimer_curve(model, lim=(1.5, 4.9))"
   ],
   "outputs": [],
   "metadata": {}
  },
  {
   "cell_type": "code",
   "execution_count": null,
   "source": [
    "# load a model on the full dataset\n",
    "model = load_obj('./models/silicon_model_full_dataset.json')"
   ],
   "outputs": [],
   "metadata": {}
  },
  {
   "cell_type": "code",
   "execution_count": null,
   "source": [
    "draw_dimer_curve(model, lim=(1.5, 4.9))"
   ],
   "outputs": [],
   "metadata": {}
  },
  {
   "cell_type": "markdown",
   "source": [
    "# Use it to run a MD simulation"
   ],
   "metadata": {}
  },
  {
   "cell_type": "code",
   "execution_count": null,
   "source": [
    "from ase.md import MDLogger\n",
    "from ase.md.langevin import Langevin\n",
    "from ase import units\n",
    "from ase.io.trajectory import Trajectory\n",
    "from ase.md.velocitydistribution import MaxwellBoltzmannDistribution"
   ],
   "outputs": [],
   "metadata": {}
  },
  {
   "cell_type": "code",
   "execution_count": null,
   "source": [
    "from rascal.models.asemd import ASEMLCalculator"
   ],
   "outputs": [],
   "metadata": {}
  },
  {
   "cell_type": "code",
   "execution_count": null,
   "source": [
    "# Use the model loaded above\n",
    "soap = model.get_representation_calculator()\n",
    "calc = ASEMLCalculator(model, soap)"
   ],
   "outputs": [],
   "metadata": {}
  },
  {
   "cell_type": "code",
   "execution_count": null,
   "source": [
    "log_fn = '/tmp/md.log'\n",
    "filename = '/tmp/md.traj'\n",
    "\n",
    "T = 500"
   ],
   "outputs": [],
   "metadata": {}
  },
  {
   "cell_type": "code",
   "execution_count": null,
   "source": [
    "%%time\n",
    "\n",
    "atoms = read(structures_fn, 50)\n",
    "\n",
    "MaxwellBoltzmannDistribution(atoms, T* units.kB)\n",
    "\n",
    "atoms.set_calculator(calc)\n",
    "\n",
    "traj = Trajectory(filename, mode='w', atoms=atoms, master=None)\n",
    "\n",
    "dyn = Langevin(atoms, 0.5 * units.fs, temperature_K= T, friction=0.002)\n",
    "\n",
    "dyn.attach(MDLogger(dyn, atoms, log_fn, header=True, stress=False,\n",
    "           peratom=False, mode=\"w\"), interval=50)\n",
    "\n",
    "dyn.attach(traj.write, interval=10)\n",
    "\n",
    "dyn.run(1000)"
   ],
   "outputs": [],
   "metadata": {}
  },
  {
   "cell_type": "markdown",
   "source": [
    "Uncomment and run the cell below to examine the trajectory using the ASE viewer:"
   ],
   "metadata": {}
  },
  {
   "cell_type": "code",
   "execution_count": null,
   "source": [
    "view(read(filename,':'), viewer='ngl')"
   ],
   "outputs": [],
   "metadata": {}
  },
  {
   "cell_type": "code",
   "execution_count": null,
   "source": [],
   "outputs": [],
   "metadata": {}
  }
 ],
 "metadata": {
  "celltoolbar": "Initialization Cell",
  "kernelspec": {
   "name": "python3",
   "display_name": "Python 3.9.7 64-bit ('mlip_workshop': conda)"
  },
  "language_info": {
   "codemirror_mode": {
    "name": "ipython",
    "version": 3
   },
   "file_extension": ".py",
   "mimetype": "text/x-python",
   "name": "python",
   "nbconvert_exporter": "python",
   "pygments_lexer": "ipython3",
   "version": "3.9.7"
  },
  "latex_envs": {
   "LaTeX_envs_menu_present": true,
   "autoclose": false,
   "autocomplete": true,
   "bibliofile": "biblio.bib",
   "cite_by": "apalike",
   "current_citInitial": 1,
   "eqLabelWithNumbers": true,
   "eqNumInitial": 1,
   "hotkeys": {
    "equation": "Ctrl-E",
    "itemize": "Ctrl-I"
   },
   "labels_anchors": false,
   "latex_user_defs": false,
   "report_style_numbering": false,
   "user_envs_cfg": false
  },
  "toc": {
   "base_numbering": 1,
   "nav_menu": {
    "height": "12px",
    "width": "252px"
   },
   "number_sections": true,
   "sideBar": true,
   "skip_h1_title": false,
   "title_cell": "Table of Contents",
   "title_sidebar": "Contents",
   "toc_cell": false,
   "toc_position": {},
   "toc_section_display": "block",
   "toc_window_display": false
  },
  "interpreter": {
   "hash": "fa2f484bb089086c936a41d60425618a7b91663406304d32fc765da36d72df6b"
  }
 },
 "nbformat": 4,
 "nbformat_minor": 2
}