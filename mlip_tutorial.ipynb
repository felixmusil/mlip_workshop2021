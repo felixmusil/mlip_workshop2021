{
 "cells": [
  {
   "cell_type": "code",
   "execution_count": 2,
   "source": [
    "%matplotlib inline\n",
    "from matplotlib import pylab as plt\n",
    "\n",
    "import ase\n",
    "from ase.io import read\n",
    "from ase.visualize import view\n",
    "import numpy as np\n",
    "\n",
    "from rascal.representations import SphericalInvariants\n",
    "from rascal.models import gaptools\n",
    "from rascal.models.asemd import ASEMLCalculator\n",
    "from rascal.utils import dump_obj, load_obj, print_score\n",
    "from rascal.models import gaptools, KRR\n",
    "\n",
    "from tools.download import download_url\n",
    "from tools.utils import fix_frames, train_test_split, filter_frames, get_config_type"
   ],
   "outputs": [],
   "metadata": {
    "init_cell": true
   }
  },
  {
   "cell_type": "markdown",
   "source": [
    "For this exercise we will use the [Silicon dataset](https://doi.org/10.1103/PhysRevX.8.041048) published with\n",
    "\n",
    "```\n",
    "Machine Learning a General-Purpose Interatomic Potential for Silicon\n",
    "Albert P. Bartók, James Kermode, Noam Bernstein, and Gábor Csányi\n",
    "Phys. Rev. X 8, 041048 – Published 14 December 2018\n",
    "```"
   ],
   "metadata": {}
  },
  {
   "cell_type": "markdown",
   "source": [
    "![](sparse_point.png)"
   ],
   "metadata": {}
  },
  {
   "cell_type": "code",
   "execution_count": 21,
   "source": [
    "# path to the dataset\n",
    "url = \"https://github.com/libAtoms/silicon-testing-framework/raw/master/models/GAP/gp_iter6_sparse9k.xml.xyz\"\n",
    "\n",
    "structures_fn = download_url(url, './')\n",
    "structures_fn"
   ],
   "outputs": [
    {
     "output_type": "stream",
     "name": "stderr",
     "text": [
      "Using existing file gp_iter6_sparse9k.xml.xyz\n"
     ]
    },
    {
     "output_type": "execute_result",
     "data": {
      "text/plain": [
       "'./gp_iter6_sparse9k.xml.xyz'"
      ]
     },
     "metadata": {},
     "execution_count": 21
    }
   ],
   "metadata": {}
  },
  {
   "cell_type": "markdown",
   "source": [
    "# Build a Force Field"
   ],
   "metadata": {}
  },
  {
   "cell_type": "code",
   "execution_count": 22,
   "source": [
    "# load the structures\n",
    "frames = fix_frames(read(structures_fn,':'))\n",
    "# and extract the first one because it coresponds to an isolated configuration\n",
    "# used to convert total energies into formation energies\n",
    "isolated_atom = frames[0]\n",
    "frames = frames[1:]\n",
    "\n",
    "global_species = [14]\n",
    "\n",
    "# Isolated atom contributions\n",
    "energy_baseline = {\n",
    "    14: isolated_atom.info['dft_energy'],\n",
    "}\n",
    "\n",
    "print(get_config_type(frames))"
   ],
   "outputs": [
    {
     "output_type": "stream",
     "name": "stdout",
     "text": [
      "{'crack_111_1-10', 'bc8', 'amorph', 'divacancy', 'hex_diamond', 'surface_110', 'decohesion', 'dia', 'surface_111_pandey', 'interstitial', 'screw_disloc', 'bt', 'vacancy', 'surface_111_3x3_das', 'bcc', '111adatom', 'hcp', 'liq', 'crack_110_1-10', 'fcc', 'surface_111', 'surface_001', 'st12', 'sh', 'sp', 'sp2'}\n"
     ]
    }
   ],
   "metadata": {}
  },
  {
   "cell_type": "code",
   "execution_count": 23,
   "source": [
    "# remove some types of configurations to lower the memory requirements of the exercise \n",
    "excludes = [\n",
    "    'amorph', 'crack_110_1-10', 'crack_111_1-10', 'decohesion', 'interstitial','divacancy', 'liq', 'screw_disloc','surface_001', 'surface_110', 'surface_111', 'surface_111_3x3_das', 'surface_111_pandey', 'vacancy', 'st12', '111adatom', 'bc8', 'hex_diamond', 'sh', 'sp2', 'sp', 'hcp', 'fcc', 'bcc',\n",
    "]\n",
    "\n",
    "\n",
    "frames = filter_frames(frames, excludes)\n",
    "# Total number of structure to load\n",
    "N = len(frames)\n",
    "# Number of structure to train the model with\n",
    "n_train = int(0.8*N)\n",
    "\n",
    "print(get_config_type(frames))\n",
    "N, n_train"
   ],
   "outputs": [
    {
     "output_type": "stream",
     "name": "stdout",
     "text": [
      "{'bt', 'dia'}\n"
     ]
    },
    {
     "output_type": "execute_result",
     "data": {
      "text/plain": [
       "(934, 747)"
      ]
     },
     "metadata": {},
     "execution_count": 23
    }
   ],
   "metadata": {}
  },
  {
   "cell_type": "code",
   "execution_count": 24,
   "source": [
    "ids = np.arange(N)\n",
    "np.random.seed(10)\n",
    "np.random.shuffle(ids)\n",
    "\n",
    "# split the structures in 2 sets\n",
    "frames_train, y_train, f_train, frames_test, y_test, f_test = train_test_split(ids, n_train, frames)\n",
    "\n"
   ],
   "outputs": [],
   "metadata": {
    "code_folding": []
   }
  },
  {
   "cell_type": "code",
   "execution_count": 25,
   "source": [
    "# define the parameters of the spherical expansion\n",
    "hypers = dict(soap_type=\"PowerSpectrum\",\n",
    "              interaction_cutoff=5, \n",
    "              max_radial=8, \n",
    "              max_angular=6, \n",
    "              gaussian_sigma_constant=0.4,\n",
    "              gaussian_sigma_type=\"Constant\",\n",
    "              cutoff_smooth_width=0.5,\n",
    "              normalize=True,\n",
    "              radial_basis=\"GTO\",\n",
    "              compute_gradients=False,\n",
    "              expansion_by_species_method='structure wise',\n",
    "              optimization={\"Spline\":{\"accuracy\":1e-6}}\n",
    "              )\n",
    "\n",
    "soap = SphericalInvariants(**hypers)\n"
   ],
   "outputs": [],
   "metadata": {}
  },
  {
   "cell_type": "code",
   "execution_count": 26,
   "source": [
    "# compute the representation of all the structures\n",
    "soap, feature_list = gaptools.calculate_representation(frames, hypers)"
   ],
   "outputs": [],
   "metadata": {}
  },
  {
   "cell_type": "code",
   "execution_count": 27,
   "source": [
    "n_features = 200\n",
    "sparcified_hypers = gaptools.sparsify_features(soap, feature_list, n_features, selection_type=\"FPS\")"
   ],
   "outputs": [],
   "metadata": {}
  },
  {
   "cell_type": "code",
   "execution_count": 28,
   "source": [
    "# compute the sparsified representation\n",
    "soap, feature_list = gaptools.calculate_representation(frames, sparcified_hypers)"
   ],
   "outputs": [],
   "metadata": {}
  },
  {
   "cell_type": "code",
   "execution_count": 29,
   "source": [
    "# identify representative configuration within the dataset to use as basis\n",
    "# in the GAP model \n",
    "n_sparse = {14: 1000}\n",
    "X_sparse = gaptools.sparsify_environments(soap, feature_list, n_sparse, selection_type=\"FPS\")"
   ],
   "outputs": [],
   "metadata": {}
  },
  {
   "cell_type": "code",
   "execution_count": 30,
   "source": [
    "# Compute the kernel elements and their derivatives\n",
    "(k_obj, K_sparse_sparse, K_full_sparse, K_grad_full_sparse) = gaptools.compute_kernels(\n",
    "    soap,\n",
    "    feature_list,\n",
    "    X_sparse,\n",
    "    soap_power=2,\n",
    ")"
   ],
   "outputs": [
    {
     "output_type": "display_data",
     "data": {
      "application/vnd.jupyter.widget-view+json": {
       "version_major": 2,
       "version_minor": 0,
       "model_id": "689a1fdd8b954208b7ea3742bb06f837"
      },
      "text/plain": [
       "Compute kernel gradients:   0%|          | 0/934 [00:00<?, ?it/s]"
      ]
     },
     "metadata": {}
    }
   ],
   "metadata": {
    "code_folding": []
   }
  },
  {
   "cell_type": "code",
   "execution_count": 31,
   "source": [
    "# split the kernel matrices into a trainig and testing set\n",
    "natoms = [len(frame) for frame in frames]\n",
    "K_train_sparse, K_grad_train_sparse = gaptools.extract_kernel_indices(\n",
    "    ids[:n_train], K_full_sparse, K_grad_full_sparse, natoms=natoms\n",
    ")\n",
    "K_test_sparse, K_grad_test_sparse = gaptools.extract_kernel_indices(\n",
    "    ids[n_train:], K_full_sparse, K_grad_full_sparse, natoms=natoms\n",
    ")"
   ],
   "outputs": [],
   "metadata": {}
  },
  {
   "cell_type": "code",
   "execution_count": 32,
   "source": [
    "# train a gap model\n",
    "weights = gaptools.fit_gap_simple(\n",
    "    frames_train,\n",
    "    K_sparse_sparse,\n",
    "    y_train,\n",
    "    K_train_sparse,\n",
    "    energy_regularizer_peratom=1E-3,\n",
    "    forces=f_train,\n",
    "    kernel_gradients_sparse=K_grad_train_sparse,\n",
    "    energy_atom_contributions=energy_baseline,\n",
    "    force_regularizer=1E-2,\n",
    "    solver=\"RKHS-QR\"\n",
    ")"
   ],
   "outputs": [],
   "metadata": {}
  },
  {
   "cell_type": "code",
   "execution_count": 33,
   "source": [
    "model = KRR(weights, k_obj, X_sparse, energy_baseline,\n",
    "            description=\"GAP MLIP for solid Silicon\")\n",
    "dump_obj('silicon_model.json', model)"
   ],
   "outputs": [],
   "metadata": {}
  },
  {
   "cell_type": "markdown",
   "source": [
    "## test the model"
   ],
   "metadata": {}
  },
  {
   "cell_type": "code",
   "execution_count": null,
   "source": [
    "# you can load the previously trained model\n",
    "model = load_obj('silicon_model.json')"
   ],
   "outputs": [],
   "metadata": {}
  },
  {
   "cell_type": "markdown",
   "source": [
    "### on a test set"
   ],
   "metadata": {}
  },
  {
   "cell_type": "code",
   "execution_count": 34,
   "source": [
    "# basic assessement of the quality of the trained model\n",
    "y_pred = model.predict(frames_test, KNM=K_test_sparse)\n",
    "f_pred = model.predict_forces(frames_test, KNM=K_grad_test_sparse)\n",
    "natoms = np.array([len(frame) for frame in frames_test])\n",
    "\n",
    "print('Error statistics on the energy per atom:')\n",
    "print_score(y_pred/natoms, y_test/natoms)\n",
    "plt.plot(y_test/natoms, y_pred/natoms, 'o')\n",
    "plt.title(\"correlation plot\")\n",
    "plt.xlabel(\"predicted energies [eV/atom]\")\n",
    "plt.ylabel(\"reference energies [eV/atom]\")"
   ],
   "outputs": [
    {
     "output_type": "stream",
     "name": "stdout",
     "text": [
      "Error statistics on the energy per atom:\n",
      "MAE=1.42e-03 RMSE=5.72e-03 SUP=5.94e-02 R2=9.99e-01 CORR=1.00e+00\n"
     ]
    },
    {
     "output_type": "execute_result",
     "data": {
      "text/plain": [
       "Text(0, 0.5, 'reference energies [eV/atom]')"
      ]
     },
     "metadata": {},
     "execution_count": 34
    },
    {
     "output_type": "display_data",
     "data": {
      "image/png": "[encoded data removed]",
      "text/plain": [
       "<Figure size 432x288 with 1 Axes>"
      ]
     },
     "metadata": {
      "needs_background": "light"
     }
    }
   ],
   "metadata": {}
  },
  {
   "cell_type": "code",
   "execution_count": 35,
   "source": [
    "print('Error statistics on the forces:')\n",
    "print_score(f_pred.flatten(), f_test.flatten())\n",
    "plt.plot(f_pred.flatten(), f_test.flatten(), 'o')\n",
    "plt.title(\"correlation plot\")\n",
    "plt.xlabel(r\"predicted forces [eV/$\\AA$]\")\n",
    "plt.ylabel(r\"reference forces [eV/$\\AA$]\")"
   ],
   "outputs": [
    {
     "output_type": "stream",
     "name": "stdout",
     "text": [
      "Error statistics on the forces:\n",
      "MAE=8.29e-03 RMSE=2.10e-02 SUP=4.51e-01 R2=9.95e-01 CORR=9.97e-01\n"
     ]
    },
    {
     "output_type": "execute_result",
     "data": {
      "text/plain": [
       "Text(0, 0.5, 'reference forces [eV/$\\\\AA$]')"
      ]
     },
     "metadata": {},
     "execution_count": 35
    },
    {
     "output_type": "display_data",
     "data": {
      "image/png": "[encoded data removed]",
      "text/plain": [
       "<Figure size 432x288 with 1 Axes>"
      ]
     },
     "metadata": {
      "needs_background": "light"
     }
    }
   ],
   "metadata": {}
  },
  {
   "cell_type": "markdown",
   "source": [
    "### On physical properties: \n",
    "\n",
    "+ Equation of State (EoS) of the diamond and $\\beta$-$S_n$ phases of silicon \n",
    "\n",
    "+ elastic tensor of the diamond phase"
   ],
   "metadata": {}
  },
  {
   "cell_type": "code",
   "execution_count": 36,
   "source": [
    "from rascal.models.asemd import ASEMLCalculator\n",
    "\n",
    "from tools.lattice_cubic import do_lattice as do_cubic\n",
    "from tools.lattice_tetragonal import do_lattice as do_tetragonal\n",
    "from tools.utils import dft_ref\n",
    "\n",
    "from ase.io.trajectory import Trajectory\n",
    "from ase.io import read\n",
    "from ase.lattice.cubic import Diamond\n",
    "\n"
   ],
   "outputs": [],
   "metadata": {}
  },
  {
   "cell_type": "markdown",
   "source": [
    "#### The diamond phase"
   ],
   "metadata": {}
  },
  {
   "cell_type": "code",
   "execution_count": 37,
   "source": [
    "calc = ASEMLCalculator(model, model.get_representation_calculator())\n",
    "a0 = (20.0*8)**(1.0/3.0) # initial guess at lattice constant, cell will be relaxed below\n",
    "\n",
    "# set up the a\n",
    "atoms = Diamond(symbol='Si', latticeconstant=a0)\n",
    "atoms.set_calculator(calc)\n",
    "c11, c12, c44, E_vs_V = do_cubic(atoms, elastic=True)\n",
    "a0 = atoms.cell[0,0] # save lattice constant after relaxation"
   ],
   "outputs": [
    {
     "output_type": "stream",
     "name": "stderr",
     "text": [
      "/home/musil/miniconda/envs/mlip_workshop/lib/python3.9/site-packages/ase/utils/__init__.py:62: FutureWarning: Please use atoms.cell.reciprocal()\n",
      "  warnings.warn(warning)\n"
     ]
    },
    {
     "output_type": "stream",
     "name": "stdout",
     "text": [
      "Fitting C_11\n",
      "Strain array([-0.02, -0.01,  0.  ,  0.01,  0.02])\n",
      "Stress array([-2.96281744, -1.48654107, -0.00805662,  1.41707295,  2.81467651]) GPa\n",
      "Cij (gradient) / GPa    :     144.5860191433956\n",
      "Error in Cij / GPa      :     1.0573708727912472\n",
      "Correlation coefficient :     0.9999197876782018\n",
      "Setting C11 (1) to 0.902435 +/- 0.006600\n",
      "\n",
      "\n",
      "Fitting C_21\n",
      "Strain array([-0.02, -0.01,  0.  ,  0.01,  0.02])\n",
      "Stress array([-1.33593376, -0.65710376, -0.00805662,  0.55892601,  1.05623328]) GPa\n",
      "Cij (gradient) / GPa    :     60.00363858765646\n",
      "Error in Cij / GPa      :     2.1886466985079616\n",
      "Correlation coefficient :     0.9980102902768262\n",
      "Setting C21 (7) to 0.374513 +/- 0.013660\n",
      "\n",
      "\n",
      "Fitting C_31\n",
      "Strain array([-0.02, -0.01,  0.  ,  0.01,  0.02])\n",
      "Stress array([-1.33593376, -0.65710376, -0.00805662,  0.55892601,  1.05623328]) GPa\n",
      "Cij (gradient) / GPa    :     60.003638587656496\n",
      "Error in Cij / GPa      :     2.188646698508208\n",
      "Correlation coefficient :     0.9980102902768258\n",
      "Updating C31 (7) with value 0.374513 +/- 0.013660\n",
      "\n",
      "\n",
      "Fitting C_44\n",
      "Strain array([-0.02, -0.01,  0.  ,  0.01,  0.02])\n",
      "Stress array([-1.17707630e+00, -6.05730594e-01,  1.21045102e-14,  6.30646440e-01,\n",
      "        1.29604279e+00]) GPa\n",
      "Cij (gradient) / GPa    :     61.82615228282585\n",
      "Error in Cij / GPa      :     1.040272467769353\n",
      "Correlation coefficient :     0.9995756106312125\n",
      "Setting C44 (4) to 0.385888 +/- 0.006493\n",
      "\n",
      "\n",
      "[[b C11 b C12 b C12 b     b     b    ]\n",
      " [b C12 b C11 b C12 b     b     b    ]\n",
      " [b C12 b C12 b C11 b     b     b    ]\n",
      " [b     b     b     b C44 b     b    ]\n",
      " [b     b     b     b     b C44 b    ]\n",
      " [b     b     b     b     b     b C44]]\n",
      "\n",
      " = \n",
      "\n",
      "[[144.59  60.    60.     0.     0.     0.  ]\n",
      " [ 60.   144.59  60.     0.     0.     0.  ]\n",
      " [ 60.    60.   144.59   0.     0.     0.  ]\n",
      " [  0.     0.     0.    61.83   0.     0.  ]\n",
      " [  0.     0.     0.     0.    61.83   0.  ]\n",
      " [  0.     0.     0.     0.     0.    61.83]]\n",
      "C_11 = 144.59 +/- 1.06 GPa\n",
      "C_12 = 60.00 +/- 2.19 GPa\n",
      "C_44 = 61.83 +/- 1.04 GPa\n"
     ]
    }
   ],
   "metadata": {}
  },
  {
   "cell_type": "code",
   "execution_count": 38,
   "source": [
    "ml_pred = {}\n",
    "ml_pred['diamond'] = {'a0': a0, 'c11': c11, 'c12': c12, 'c44': c44, \n",
    "                  'bulk_modulus': (c11+2.0*c12)/3.0, 'E_vs_V': E_vs_V }"
   ],
   "outputs": [],
   "metadata": {}
  },
  {
   "cell_type": "markdown",
   "source": [
    "#### The $\\beta$-$S_n$ phase"
   ],
   "metadata": {}
  },
  {
   "cell_type": "code",
   "execution_count": 39,
   "source": [
    "atoms = ase.Atoms([14] * 2, positions=[(0.0, -0.25, -0.069), (0.0, 0.25, 0.069)], \n",
    "       cell=[ [1.0, 0.0, 0.0], [0.0, 1.0, 0.0], [0.5, 0.5, 0.276]], pbc=(1,1,1))\n",
    "\n",
    "cell = atoms.get_cell()\n",
    "cell *= (20.0*2/atoms.get_volume())**(1.0/3.0)\n",
    "atoms.set_cell(cell, scale_atoms=True)\n",
    "atoms.set_calculator(calc)\n",
    "\n",
    "E_vs_V = do_tetragonal(atoms, elastic=False)\n",
    "\n",
    "# dictionary of computed properties - this is output of this test, to\n",
    "#   be compared with other models\n",
    "ml_pred['beta-Sn'] = {'E_vs_V': E_vs_V }"
   ],
   "outputs": [],
   "metadata": {}
  },
  {
   "cell_type": "markdown",
   "source": [
    "#### Compare our MLIP with the DFT reference"
   ],
   "metadata": {}
  },
  {
   "cell_type": "code",
   "execution_count": 40,
   "source": [
    "print('Relative error on several structural properties of the diamond phase of silicon w.r.t. the DFT reference:')\n",
    "for (k,ref) in dft_ref['diamond'].items():\n",
    "    pred = ml_pred['diamond'][k]\n",
    "    if k == 'E_vs_V': continue\n",
    "    print(f\"    {k}: {(ref-pred)/ref*100} %\")"
   ],
   "outputs": [
    {
     "output_type": "stream",
     "name": "stdout",
     "text": [
      "Relative error on several structural properties of the diamond phase of silicon w.r.t. the DFT reference:\n",
      "    bulk_modulus: 0.4502777666734079 %\n",
      "    c12: -6.672964590201594 %\n",
      "    c11: 5.6780585601519995 %\n",
      "    c44: 14.340839541352269 %\n",
      "    a0: 0.008301429446369893 %\n"
     ]
    }
   ],
   "metadata": {}
  },
  {
   "cell_type": "markdown",
   "source": [
    "Relative error on several structural properties of the diamond phase of silicon w.r.t. the DFT reference:\n",
    "    bulk_modulus: 0.450277747495 %\n",
    "    c12: -6.672964621025444 %\n",
    "    c11: 5.678058549520227 %\n",
    "    c44: 14.340839542118875 %\n",
    "    a0: 0.008301429446369893 %"
   ],
   "metadata": {}
  },
  {
   "cell_type": "code",
   "execution_count": 41,
   "source": [
    "aa = np.array(dft_ref['diamond']['E_vs_V'],dtype=object)\n",
    "bb = np.array(ml_pred['diamond']['E_vs_V'],dtype=object)\n",
    "plt.plot(aa[:,0],aa[:,1],'-k',label='diamond ref')\n",
    "plt.plot(bb[:,0],bb[:,1],'--b',label='diamond pred')\n",
    "\n",
    "aa = np.array(dft_ref['beta-Sn']['E_vs_V'],dtype=object)\n",
    "bb = np.array(ml_pred['beta-Sn']['E_vs_V'],dtype=object)\n",
    "plt.plot(aa[:,0],aa[:,1],'-k',label=r'$\\beta-S_n$ ref')\n",
    "plt.plot(bb[:,0],bb[:,1],'--r',label=r'$\\beta-S_n$ pred')\n",
    "plt.title('Equation of State')\n",
    "plt.ylabel('Energy [eV]')\n",
    "plt.xlabel(r'Volume [$\\AA^3$]')\n",
    "plt.legend()"
   ],
   "outputs": [
    {
     "output_type": "execute_result",
     "data": {
      "text/plain": [
       "<matplotlib.legend.Legend at 0x7fd6317dfe50>"
      ]
     },
     "metadata": {},
     "execution_count": 41
    },
    {
     "output_type": "display_data",
     "data": {
      "image/png": "[encoded data removed]",
      "text/plain": [
       "<Figure size 432x288 with 1 Axes>"
      ]
     },
     "metadata": {
      "needs_background": "light"
     }
    }
   ],
   "metadata": {}
  },
  {
   "cell_type": "markdown",
   "source": [
    "### On dimer curve"
   ],
   "metadata": {}
  },
  {
   "cell_type": "code",
   "execution_count": 42,
   "source": [
    "pairs = [[14,14]]\n",
    "ndists = 40 #number of distances to look at\n",
    "dists = np.linspace(1.5,4.9,ndists) # distance list, can be changed\n",
    "\n",
    "frames = []\n",
    "for p in pairs:\n",
    "    for d in dists:\n",
    "        #using ase we can create the cell and place the atoms\n",
    "        atoms = ase.Atoms(numbers=p,pbc=False,cell=np.eye(3)*10,positions=[[0,0,0],[d,0,0]])\n",
    "        frames.append(atoms)\n",
    "soap = model.get_representation_calculator()\n",
    "X = soap.transform(frames)\n",
    "e_pairs = model.predict(X)\n",
    "e_pairs -= e_pairs.mean()\n"
   ],
   "outputs": [],
   "metadata": {}
  },
  {
   "cell_type": "code",
   "execution_count": 43,
   "source": [
    "for pair_to_plot in pairs:\n",
    "    i = pairs.index(pair_to_plot)\n",
    "    fig, ax = plt.subplots()\n",
    "    ax.plot(dists,e_pairs[i*ndists:(i+1)*ndists],'--xb',linewidth=1)\n",
    "    ax.set_xlabel('Distance (A)')\n",
    "    ax.set_ylabel('Predicted energy (eV)')\n",
    "    ax.set_title('Bond energy between {} and {}'.format(*pair_to_plot))\n",
    "    plt.tight_layout()\n",
    "    plt.show()"
   ],
   "outputs": [
    {
     "output_type": "display_data",
     "data": {
      "image/png": "[encoded data removed]",
      "text/plain": [
       "<Figure size 432x288 with 1 Axes>"
      ]
     },
     "metadata": {
      "needs_background": "light"
     }
    }
   ],
   "metadata": {}
  },
  {
   "cell_type": "code",
   "execution_count": null,
   "source": [],
   "outputs": [],
   "metadata": {}
  },
  {
   "cell_type": "code",
   "execution_count": null,
   "source": [],
   "outputs": [],
   "metadata": {}
  },
  {
   "cell_type": "markdown",
   "source": [
    "# Use it to run a MD simulation"
   ],
   "metadata": {}
  },
  {
   "cell_type": "code",
   "execution_count": 103,
   "source": [
    "from ase.md import MDLogger\n",
    "from ase.md.langevin import Langevin\n",
    "from ase import units\n",
    "from ase.io.trajectory import Trajectory\n",
    "from ase.md.velocitydistribution import MaxwellBoltzmannDistribution"
   ],
   "outputs": [],
   "metadata": {}
  },
  {
   "cell_type": "code",
   "execution_count": 113,
   "source": [
    "from rascal.models.asemd import ASEMLCalculator"
   ],
   "outputs": [],
   "metadata": {}
  },
  {
   "cell_type": "code",
   "execution_count": 105,
   "source": [
    "# Use the model loaded above\n",
    "soap = model.get_representation_calculator()\n",
    "calc = ASEMLCalculator(model, soap)"
   ],
   "outputs": [],
   "metadata": {}
  },
  {
   "cell_type": "code",
   "execution_count": 106,
   "source": [
    "log_fn = '/tmp/md.log'\n",
    "filename = '/tmp/md.traj'\n",
    "\n",
    "T = 500"
   ],
   "outputs": [],
   "metadata": {}
  },
  {
   "cell_type": "code",
   "execution_count": 109,
   "source": [
    "%%time\n",
    "\n",
    "atoms = read(structures_fn, 50)\n",
    "\n",
    "MaxwellBoltzmannDistribution(atoms, T* units.kB)\n",
    "\n",
    "atoms.set_calculator(calc)\n",
    "\n",
    "traj = Trajectory(filename, mode='w', atoms=atoms, master=None)\n",
    "\n",
    "dyn = Langevin(atoms, 0.5 * units.fs, temperature_K= T, friction=0.002)\n",
    "\n",
    "dyn.attach(MDLogger(dyn, atoms, log_fn, header=True, stress=False,\n",
    "           peratom=False, mode=\"w\"), interval=50)\n",
    "\n",
    "dyn.attach(traj.write, interval=10)\n",
    "\n",
    "dyn.run(1000)"
   ],
   "outputs": [
    {
     "output_type": "stream",
     "name": "stderr",
     "text": [
      "/home/musil/miniconda/envs/mlip_workshop/lib/python3.9/site-packages/ase/md/md.py:48: FutureWarning: Specify the temperature in K using the 'temperature_K' argument\n",
      "  warnings.warn(FutureWarning(w))\n"
     ]
    },
    {
     "output_type": "stream",
     "name": "stdout",
     "text": [
      "CPU times: user 6min 56s, sys: 19min 29s, total: 26min 25s\n",
      "Wall time: 1min 39s\n"
     ]
    },
    {
     "output_type": "execute_result",
     "data": {
      "text/plain": [
       "True"
      ]
     },
     "metadata": {},
     "execution_count": 109
    }
   ],
   "metadata": {}
  },
  {
   "cell_type": "markdown",
   "source": [
    "Uncomment and run the cell below to examine the trajectory using the ASE viewer:"
   ],
   "metadata": {}
  },
  {
   "cell_type": "code",
   "execution_count": 110,
   "source": [
    "view(read(filename,':'), viewer='ngl')"
   ],
   "outputs": [
    {
     "output_type": "display_data",
     "data": {
      "application/vnd.jupyter.widget-view+json": {
       "version_major": 2,
       "version_minor": 0,
       "model_id": "3681ab9b91e448dc95b01b3ffcdd485a"
      },
      "text/plain": [
       "HBox(children=(NGLWidget(max_frame=100), VBox(children=(Dropdown(description='Show', options=('All', 'Si'), va…"
      ]
     },
     "metadata": {}
    }
   ],
   "metadata": {}
  },
  {
   "cell_type": "code",
   "execution_count": null,
   "source": [],
   "outputs": [],
   "metadata": {}
  }
 ],
 "metadata": {
  "celltoolbar": "Initialization Cell",
  "kernelspec": {
   "name": "python3",
   "display_name": "Python 3.9.7 64-bit ('mlip_workshop': conda)"
  },
  "language_info": {
   "codemirror_mode": {
    "name": "ipython",
    "version": 3
   },
   "file_extension": ".py",
   "mimetype": "text/x-python",
   "name": "python",
   "nbconvert_exporter": "python",
   "pygments_lexer": "ipython3",
   "version": "3.9.7"
  },
  "latex_envs": {
   "LaTeX_envs_menu_present": true,
   "autoclose": false,
   "autocomplete": true,
   "bibliofile": "biblio.bib",
   "cite_by": "apalike",
   "current_citInitial": 1,
   "eqLabelWithNumbers": true,
   "eqNumInitial": 1,
   "hotkeys": {
    "equation": "Ctrl-E",
    "itemize": "Ctrl-I"
   },
   "labels_anchors": false,
   "latex_user_defs": false,
   "report_style_numbering": false,
   "user_envs_cfg": false
  },
  "toc": {
   "base_numbering": 1,
   "nav_menu": {
    "height": "12px",
    "width": "252px"
   },
   "number_sections": true,
   "sideBar": true,
   "skip_h1_title": false,
   "title_cell": "Table of Contents",
   "title_sidebar": "Contents",
   "toc_cell": false,
   "toc_position": {},
   "toc_section_display": "block",
   "toc_window_display": false
  },
  "interpreter": {
   "hash": "fa2f484bb089086c936a41d60425618a7b91663406304d32fc765da36d72df6b"
  }
 },
 "nbformat": 4,
 "nbformat_minor": 2
}